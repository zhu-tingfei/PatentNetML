{
 "cells": [
  {
   "cell_type": "code",
   "execution_count": 1,
   "id": "6fed377f",
   "metadata": {},
   "outputs": [],
   "source": [
    "import os\n",
    "import sys\n",
    "import random\n",
    "import numpy as np\n",
    "import pandas as pd\n",
    "\n",
    "import pickle\n",
    "\n",
    "from rdkit import Chem\n",
    "from rdkit.Chem import AllChem\n",
    "\n",
    "import warnings\n",
    "warnings.filterwarnings(\"ignore\")\n",
    "\n",
    "import xgboost\n",
    "import KeyCompoundFinder"
   ]
  },
  {
   "cell_type": "markdown",
   "id": "56fab60e",
   "metadata": {},
   "source": [
    "Load Dataset"
   ]
  },
  {
   "cell_type": "code",
   "execution_count": 2,
   "id": "97ae217c",
   "metadata": {},
   "outputs": [],
   "source": [
    "df_test = pd.read_csv('../data/mini-test.csv')\n",
    "df_original = pd.read_csv('../data/data.csv')"
   ]
  },
  {
   "cell_type": "markdown",
   "id": "4a7af8a0",
   "metadata": {},
   "source": [
    "PatentNetML"
   ]
  },
  {
   "cell_type": "code",
   "execution_count": 3,
   "id": "94f1f53e",
   "metadata": {
    "scrolled": true
   },
   "outputs": [
    {
     "name": "stdout",
     "output_type": "stream",
     "text": [
      "1 US-20190016731 : 9 (117)\n",
      "2 US-8242121 : 4 (65)\n",
      "3 US-8354092 : 18 (203)\n",
      "4 US-8063224 : 6 (50)\n",
      "5 US-8415483 : 1 (93)\n",
      "6 US-20140378489 : 47 (88)\n",
      "7 US-8012956 : 67 (585)\n",
      "8 US-20120232029 : 30 (81)\n",
      "9 US-8877731 : 3 (162)\n",
      "10 US-9359365 : 2 (648)\n",
      "11 US-8809525 : 5 (228)\n",
      "12 US-7572924 : 24 (208)\n",
      "13 US-20130296364 : 117 (136)\n",
      "14 US-4219559 : 105 (140)\n",
      "Num: 5\n",
      "Top5 Accuracy: 0.35714285714285715\n",
      "Top1 Accuracy: 0.07142857142857142\n",
      "Top10 Accuracy: 0.5\n"
     ]
    }
   ],
   "source": [
    "def feature_selection_saved(X,file):\n",
    "    with open(file,'rb') as f:\n",
    "        process = pickle.load(f)\n",
    "    X = process.get('fs1').transform(X.values)\n",
    "    X = process.get('fs2').transform(X)\n",
    "    df = pd.DataFrame(X,columns=process.get('fs3'))\n",
    "    columns = process.get('fs4')\n",
    "    df_final = df[columns]\n",
    "    X_final = np.array(df_final)\n",
    "    return X_final,columns\n",
    "\n",
    "algorithms = ['xgboost','rf']            \n",
    "dict_rounds_get = {'xgboost': [109,143,17,28,79],\n",
    "                   'rf'     : [191,176,89,66,162]}\n",
    "\n",
    "# print(algorithms)\n",
    "# print(dict_rounds_get)\n",
    "\n",
    "c = 0\n",
    "dict_nml_p_ml = {}\n",
    "\n",
    "df_probability_total = pd.DataFrame()\n",
    "for p in df_test.PATENT_ID.unique():\n",
    "\n",
    "    df_p = df_test[df_test.PATENT_ID == p].reset_index(drop=True)\n",
    "\n",
    "    n = df_p.shape[0]\n",
    "\n",
    "    X_ = df_p.drop(columns=['PATENT_ID','P_Ca_SMILES','Target'])\n",
    "\n",
    "    y = df_p.Target.tolist()\n",
    "    \n",
    "    df_probability = pd.DataFrame({'PATENT_ID':df_p.PATENT_ID.tolist(),\n",
    "                                   'P_Ca_SMILES':df_p.P_Ca_SMILES.tolist(),\n",
    "                                   'Target':df_p.Target.tolist()})\n",
    "    for algorithm in algorithms:\n",
    "        path = f'../results/models/{algorithm}_top5'\n",
    "        for r in dict_rounds_get.get(algorithm):\n",
    "            file=f'{path}/FeatureSelection_{r}.pkl'\n",
    "            X,columns = feature_selection_saved(X_,file)\n",
    "\n",
    "\n",
    "            with open(f'{path}/{algorithm}_{r}.pkl','rb') as f:\n",
    "                clf = pickle.load(f)\n",
    "\n",
    "            y_proba = clf.predict_proba(X)[:,1]\n",
    "            df_probability[f'Probability_{algorithm}_{r}'] = y_proba\n",
    "            \n",
    "        if algorithm == algorithms[0]:\n",
    "            col_num = df_probability.shape[1]\n",
    "            df_probability[f'Probability_{algorithm}'] = [np.mean(df_probability.iloc[i,3:].tolist()) for i in range(df_probability.shape[0])]\n",
    "        elif algorithm == algorithms[1]:\n",
    "            df_probability[f'Probability_{algorithm}'] = [np.mean(df_probability.iloc[i,col_num+1:].tolist()) for i in range(df_probability.shape[0])]\n",
    "\n",
    "    df_probability['Probability'] = [np.mean(df_probability.iloc[i,[col_num,-1]].tolist()) for i in range(df_probability.shape[0])]\n",
    "    df_probability.sort_values(by=['Probability'],inplace=True,ascending=False,ignore_index=True)\n",
    "    df_probability_total = pd.concat([df_probability_total,df_probability])\n",
    "    \n",
    "    c +=1\n",
    "    for i in range(df_probability.shape[0]):\n",
    "        if df_probability.Target[i] == 1:\n",
    "            print(f'{c} {p} : {i+1} ({n})')\n",
    "            dict_nml_p_ml[p] = i+1\n",
    "            break\n",
    "\n",
    "print('Num:',sum([i <=5 for i in dict_nml_p_ml.values()]))\n",
    "print('Top5 Accuracy:',sum([i <=5 for i in dict_nml_p_ml.values()])/c)\n",
    "print('Top1 Accuracy:',sum([i <=1 for i in dict_nml_p_ml.values()])/c)\n",
    "print('Top10 Accuracy:',sum([i <=10 for i in dict_nml_p_ml.values()])/c)"
   ]
  },
  {
   "cell_type": "markdown",
   "id": "f8d006d3",
   "metadata": {},
   "source": [
    "Traditional methods (CSA,MI,FOG)"
   ]
  },
  {
   "cell_type": "code",
   "execution_count": 4,
   "id": "06a9c9eb",
   "metadata": {
    "scrolled": true
   },
   "outputs": [
    {
     "name": "stdout",
     "output_type": "stream",
     "text": [
      "Molecular Idol is calculating: 0 in 50.\n",
      "Molecular Idol is calculating: 10 in 50.\n",
      "Molecular Idol is calculating: 20 in 50.\n",
      "Molecular Idol is calculating: 30 in 50.\n",
      "Molecular Idol is calculating: 40 in 50.\n"
     ]
    },
    {
     "data": {
      "text/html": [
       "<div>\n",
       "<style scoped>\n",
       "    .dataframe tbody tr th:only-of-type {\n",
       "        vertical-align: middle;\n",
       "    }\n",
       "\n",
       "    .dataframe tbody tr th {\n",
       "        vertical-align: top;\n",
       "    }\n",
       "\n",
       "    .dataframe thead th {\n",
       "        text-align: right;\n",
       "    }\n",
       "</style>\n",
       "<table border=\"1\" class=\"dataframe\">\n",
       "  <thead>\n",
       "    <tr style=\"text-align: right;\">\n",
       "      <th></th>\n",
       "      <th>DrugBank_ID</th>\n",
       "      <th>Name</th>\n",
       "      <th>Drug_Groups</th>\n",
       "      <th>SMILES</th>\n",
       "      <th>Ca_SMILES</th>\n",
       "      <th>PATENT_ID</th>\n",
       "      <th>HOMOGENEITY</th>\n",
       "      <th>PCT_FILTERED</th>\n",
       "      <th>CSA_in_Round5</th>\n",
       "      <th>CSA_Rank</th>\n",
       "      <th>...</th>\n",
       "      <th>CSA_in_Top5</th>\n",
       "      <th>MIdol_Rank</th>\n",
       "      <th>MIdol_Neighbor</th>\n",
       "      <th>MIdol_Score</th>\n",
       "      <th>MIdol_in_Top5</th>\n",
       "      <th>FOG_auto_in_Top5&amp;Top2</th>\n",
       "      <th>FOG_Cluster</th>\n",
       "      <th>FOG_Rank</th>\n",
       "      <th>FOG_Rank_Share</th>\n",
       "      <th>FOG_Score</th>\n",
       "    </tr>\n",
       "  </thead>\n",
       "  <tbody>\n",
       "    <tr>\n",
       "      <th>0</th>\n",
       "      <td>DB13024</td>\n",
       "      <td>MK-8245</td>\n",
       "      <td>investigational</td>\n",
       "      <td>OC(=O)CN1N=NC(=N1)C1=CC(=NO1)N1CCC(CC1)OC1=C(B...</td>\n",
       "      <td>O=C(O)Cn1nnc(-c2cc(N3CCC(Oc4cc(F)ccc4Br)CC3)no...</td>\n",
       "      <td>US-8063224</td>\n",
       "      <td>0.675</td>\n",
       "      <td>0.188</td>\n",
       "      <td>1</td>\n",
       "      <td>19</td>\n",
       "      <td>...</td>\n",
       "      <td>0</td>\n",
       "      <td>11</td>\n",
       "      <td>2</td>\n",
       "      <td>1.868817</td>\n",
       "      <td>0</td>\n",
       "      <td>1</td>\n",
       "      <td>1</td>\n",
       "      <td>1</td>\n",
       "      <td>1</td>\n",
       "      <td>75</td>\n",
       "    </tr>\n",
       "  </tbody>\n",
       "</table>\n",
       "<p>1 rows × 21 columns</p>\n",
       "</div>"
      ],
      "text/plain": [
       "  DrugBank_ID     Name      Drug_Groups  \\\n",
       "0     DB13024  MK-8245  investigational   \n",
       "\n",
       "                                              SMILES  \\\n",
       "0  OC(=O)CN1N=NC(=N1)C1=CC(=NO1)N1CCC(CC1)OC1=C(B...   \n",
       "\n",
       "                                           Ca_SMILES   PATENT_ID HOMOGENEITY  \\\n",
       "0  O=C(O)Cn1nnc(-c2cc(N3CCC(Oc4cc(F)ccc4Br)CC3)no...  US-8063224       0.675   \n",
       "\n",
       "  PCT_FILTERED CSA_in_Round5 CSA_Rank  ... CSA_in_Top5 MIdol_Rank  \\\n",
       "0        0.188             1       19  ...           0         11   \n",
       "\n",
       "  MIdol_Neighbor MIdol_Score MIdol_in_Top5 FOG_auto_in_Top5&Top2 FOG_Cluster  \\\n",
       "0              2    1.868817             0                     1           1   \n",
       "\n",
       "  FOG_Rank FOG_Rank_Share FOG_Score  \n",
       "0        1              1        75  \n",
       "\n",
       "[1 rows x 21 columns]"
      ]
     },
     "execution_count": 4,
     "metadata": {},
     "output_type": "execute_result"
    }
   ],
   "source": [
    "test_patent_id  = ['US-8063224']\n",
    "wdirs = '../results/traditional-example/'\n",
    "if os.path.exists(wdirs):\n",
    "    file_exist = os.listdir(wdirs)\n",
    "else:\n",
    "    os.makedirs(wdirs)\n",
    "    \n",
    "for p in test_patent_id:\n",
    "    df_p = df_original[df_original.PATENT_ID == p].reset_index(drop=True)\n",
    "    df_result = KeyCompoundFinder.FindKC(wdirs=wdirs,\n",
    "                                         methods=[True,True,True], # CSA:True, MI:True, FOG:True\n",
    "                                         params=[{'fp_class':'ECFP','fp_r':2,'fp_b':1024,'threshold':0.7},\n",
    "                                                 {'timeout':1,'threshold':0.9},\n",
    "                                                 {'timeout':60,'cluster':'a','fp_class':'ECFP','fp_r':2,'fp_b':1024,'threshold':0.6}\n",
    "                                                ],\n",
    "                                         df=df_p,\n",
    "                                        )\n",
    "df_result"
   ]
  },
  {
   "cell_type": "code",
   "execution_count": null,
   "id": "c3090ff6",
   "metadata": {},
   "outputs": [],
   "source": []
  }
 ],
 "metadata": {
  "kernelspec": {
   "display_name": "patentnet",
   "language": "python",
   "name": "patentnet"
  },
  "language_info": {
   "codemirror_mode": {
    "name": "ipython",
    "version": 3
   },
   "file_extension": ".py",
   "mimetype": "text/x-python",
   "name": "python",
   "nbconvert_exporter": "python",
   "pygments_lexer": "ipython3",
   "version": "3.10.6"
  }
 },
 "nbformat": 4,
 "nbformat_minor": 5
}
